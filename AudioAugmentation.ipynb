{
 "cells": [
  {
   "cell_type": "code",
   "execution_count": 2,
   "id": "57e9507b-c1a1-4e38-a74e-b365b15f75f1",
   "metadata": {},
   "outputs": [
    {
     "data": {
      "text/plain": [
       "18638"
      ]
     },
     "execution_count": 2,
     "metadata": {},
     "output_type": "execute_result"
    }
   ],
   "source": [
    "import os\n",
    "len(os.listdir('clips'))"
   ]
  },
  {
   "cell_type": "code",
   "execution_count": 1,
   "id": "3b77c22e-04b5-4246-b2b1-befa65e45144",
   "metadata": {
    "scrolled": true
   },
   "outputs": [],
   "source": [
    "import os\n",
    "import random\n",
    "import torch\n",
    "import torchaudio\n",
    "import torchaudio.transforms as T\n",
    "\n",
    "def add_noise(waveform, noise_factor=0.005):\n",
    "    \"\"\"Add random noise to the audio.\"\"\"\n",
    "    noise = torch.randn(waveform.size()) * noise_factor\n",
    "    return waveform + noise\n",
    "\n",
    "def pitch_shift(waveform, sample_rate=16000, n_steps=4):\n",
    "    \"\"\"Shift the pitch of the audio.\"\"\"\n",
    "    return T.PitchShift(sample_rate, n_steps)(waveform)\n",
    "\n",
    "def adjust_volume(waveform, gain=2.0):\n",
    "    \"\"\"Adjust the volume of the audio.\"\"\"\n",
    "    return waveform * gain\n",
    "\n",
    "def _mix_down_if_necessary(signal):\n",
    "        if signal.shape[0] > 1:\n",
    "            signal = torch.mean(signal, dim=0, keepdim=True)\n",
    "        return signal\n",
    "\n",
    "def augment_audio(original_audio_path, output_dir, code_name, num_augmented_files=50):\n",
    "    \"\"\"Generate augmented audio files from the original audio file.\"\"\"\n",
    "    if not os.path.exists(output_dir):\n",
    "        os.makedirs(output_dir)\n",
    "\n",
    "    # Load the original audio file\n",
    "    waveform, sample_rate = torchaudio.load(original_audio_path)\n",
    "    waveform = _mix_down_if_necessary(waveform)\n",
    "\n",
    "    for i in range(num_augmented_files):\n",
    "        # Randomly choose an augmentation method\n",
    "        augmentation_type = random.choice(['add_noise', 'pitch_shift', 'adjust_volume'])\n",
    "\n",
    "        if augmentation_type == 'add_noise':\n",
    "            augmented_waveform = add_noise(waveform)\n",
    "        elif augmentation_type == 'pitch_shift':\n",
    "            augmented_waveform = pitch_shift(waveform)\n",
    "        elif augmentation_type == 'adjust_volume':\n",
    "            augmented_waveform = adjust_volume(waveform)\n",
    "        \n",
    "        # Save the augmented audio file\n",
    "        augmented_file_path = os.path.join(output_dir, f'{code_name}_{i}_{augmentation_type}2.wav')\n",
    "        torchaudio.save(augmented_file_path, augmented_waveform.detach(), sample_rate)\n",
    "\n",
    "    print(f\"Generated {num_augmented_files} augmented files in '{augmented_file_path}'.\")\n"
   ]
  },
  {
   "cell_type": "code",
   "execution_count": 4,
   "id": "f8e4a9e9-dd46-4732-9d94-01938be42b91",
   "metadata": {},
   "outputs": [
    {
     "name": "stdout",
     "output_type": "stream",
     "text": [
      "Generated 50 augmented files in 'clips\\wake101.wav_49_adjust_volume2.wav'.\n",
      "Generated 50 augmented files in 'clips\\wake102.wav_49_add_noise2.wav'.\n",
      "Generated 50 augmented files in 'clips\\wake103.wav_49_pitch_shift2.wav'.\n",
      "Generated 50 augmented files in 'clips\\wake104.wav_49_adjust_volume2.wav'.\n",
      "Generated 50 augmented files in 'clips\\wake105.wav_49_pitch_shift2.wav'.\n",
      "Generated 50 augmented files in 'clips\\wake106.wav_49_adjust_volume2.wav'.\n",
      "Generated 50 augmented files in 'clips\\wake107.wav_49_adjust_volume2.wav'.\n",
      "Generated 50 augmented files in 'clips\\wake108.wav_49_pitch_shift2.wav'.\n",
      "Generated 50 augmented files in 'clips\\wake109.wav_49_add_noise2.wav'.\n",
      "Generated 50 augmented files in 'clips\\wake1010.wav_49_adjust_volume2.wav'.\n",
      "Generated 50 augmented files in 'clips\\wake1011.wav_49_add_noise2.wav'.\n",
      "Generated 50 augmented files in 'clips\\wake1012.wav_49_adjust_volume2.wav'.\n",
      "Generated 50 augmented files in 'clips\\wake1013.wav_49_pitch_shift2.wav'.\n",
      "Generated 50 augmented files in 'clips\\wake1014.wav_49_pitch_shift2.wav'.\n",
      "Generated 50 augmented files in 'clips\\wake1015.wav_49_adjust_volume2.wav'.\n",
      "Generated 50 augmented files in 'clips\\wake1016.wav_49_adjust_volume2.wav'.\n",
      "Generated 50 augmented files in 'clips\\wake1017.wav_49_add_noise2.wav'.\n",
      "Generated 50 augmented files in 'clips\\wake1018.wav_49_add_noise2.wav'.\n",
      "Generated 50 augmented files in 'clips\\wake1019.wav_49_pitch_shift2.wav'.\n",
      "Generated 50 augmented files in 'clips\\wake1020.wav_49_add_noise2.wav'.\n",
      "Generated 50 augmented files in 'clips\\wake1021.wav_49_add_noise2.wav'.\n",
      "Generated 50 augmented files in 'clips\\wake1022.wav_49_pitch_shift2.wav'.\n",
      "Generated 50 augmented files in 'clips\\wake1023.wav_49_adjust_volume2.wav'.\n",
      "Generated 50 augmented files in 'clips\\wake1024.wav_49_adjust_volume2.wav'.\n",
      "Generated 50 augmented files in 'clips\\wake1025.wav_49_add_noise2.wav'.\n",
      "Generated 50 augmented files in 'clips\\wake1026.wav_49_add_noise2.wav'.\n",
      "Generated 50 augmented files in 'clips\\wake1027.wav_49_add_noise2.wav'.\n",
      "Generated 50 augmented files in 'clips\\wake1028.wav_49_adjust_volume2.wav'.\n",
      "Generated 50 augmented files in 'clips\\wake1029.wav_49_adjust_volume2.wav'.\n",
      "Generated 50 augmented files in 'clips\\wake1030.wav_49_add_noise2.wav'.\n",
      "Generated 50 augmented files in 'clips\\wake1031.wav_49_add_noise2.wav'.\n",
      "Generated 50 augmented files in 'clips\\wake1032.wav_49_pitch_shift2.wav'.\n",
      "Generated 50 augmented files in 'clips\\wake1033.wav_49_add_noise2.wav'.\n",
      "Generated 50 augmented files in 'clips\\wake1034.wav_49_adjust_volume2.wav'.\n",
      "Generated 50 augmented files in 'clips\\wake1035.wav_49_pitch_shift2.wav'.\n",
      "Generated 50 augmented files in 'clips\\wake1036.wav_49_adjust_volume2.wav'.\n",
      "Generated 50 augmented files in 'clips\\wake1037.wav_49_adjust_volume2.wav'.\n",
      "Generated 50 augmented files in 'clips\\wake1038.wav_49_adjust_volume2.wav'.\n",
      "Generated 50 augmented files in 'clips\\wake1039.wav_49_add_noise2.wav'.\n",
      "Generated 50 augmented files in 'clips\\wake1040.wav_49_add_noise2.wav'.\n",
      "Generated 50 augmented files in 'clips\\wake1041.wav_49_add_noise2.wav'.\n",
      "Generated 50 augmented files in 'clips\\wake1042.wav_49_adjust_volume2.wav'.\n",
      "Generated 50 augmented files in 'clips\\wake1043.wav_49_pitch_shift2.wav'.\n",
      "Generated 50 augmented files in 'clips\\wake1044.wav_49_add_noise2.wav'.\n",
      "Generated 50 augmented files in 'clips\\wake1045.wav_49_add_noise2.wav'.\n",
      "Generated 50 augmented files in 'clips\\wake1046.wav_49_pitch_shift2.wav'.\n",
      "Generated 50 augmented files in 'clips\\wake1047.wav_49_pitch_shift2.wav'.\n",
      "Generated 50 augmented files in 'clips\\wake1048.wav_49_pitch_shift2.wav'.\n",
      "Generated 50 augmented files in 'clips\\wake1049.wav_49_adjust_volume2.wav'.\n",
      "Generated 50 augmented files in 'clips\\wake1050.wav_49_adjust_volume2.wav'.\n",
      "Generated 50 augmented files in 'clips\\wake1051.wav_49_adjust_volume2.wav'.\n",
      "Generated 50 augmented files in 'clips\\wake1052.wav_49_pitch_shift2.wav'.\n",
      "Generated 50 augmented files in 'clips\\wake1053.wav_49_add_noise2.wav'.\n",
      "Generated 50 augmented files in 'clips\\wake1054.wav_49_pitch_shift2.wav'.\n",
      "Generated 50 augmented files in 'clips\\wake1055.wav_49_add_noise2.wav'.\n",
      "Generated 50 augmented files in 'clips\\wake1056.wav_49_adjust_volume2.wav'.\n",
      "Generated 50 augmented files in 'clips\\wake1057.wav_49_adjust_volume2.wav'.\n",
      "Generated 50 augmented files in 'clips\\wake1058.wav_49_adjust_volume2.wav'.\n",
      "Generated 50 augmented files in 'clips\\wake1059.wav_49_add_noise2.wav'.\n",
      "Generated 50 augmented files in 'clips\\wake1060.wav_49_pitch_shift2.wav'.\n",
      "Generated 50 augmented files in 'clips\\wake1061.wav_49_add_noise2.wav'.\n",
      "Generated 50 augmented files in 'clips\\wake1062.wav_49_pitch_shift2.wav'.\n",
      "Generated 50 augmented files in 'clips\\wake1063.wav_49_add_noise2.wav'.\n",
      "Generated 50 augmented files in 'clips\\wake1064.wav_49_adjust_volume2.wav'.\n",
      "Generated 50 augmented files in 'clips\\wake1065.wav_49_add_noise2.wav'.\n",
      "Generated 50 augmented files in 'clips\\wake1066.wav_49_adjust_volume2.wav'.\n",
      "Generated 50 augmented files in 'clips\\wake1067.wav_49_pitch_shift2.wav'.\n",
      "Generated 50 augmented files in 'clips\\wake1068.wav_49_pitch_shift2.wav'.\n",
      "Generated 50 augmented files in 'clips\\wake1069.wav_49_adjust_volume2.wav'.\n",
      "Generated 50 augmented files in 'clips\\wake1070.wav_49_pitch_shift2.wav'.\n",
      "Generated 50 augmented files in 'clips\\wake1071.wav_49_add_noise2.wav'.\n",
      "Generated 50 augmented files in 'clips\\wake1072.wav_49_pitch_shift2.wav'.\n",
      "Generated 50 augmented files in 'clips\\wake1073.wav_49_adjust_volume2.wav'.\n",
      "Generated 50 augmented files in 'clips\\wake1074.wav_49_add_noise2.wav'.\n",
      "Generated 50 augmented files in 'clips\\wake1075.wav_49_add_noise2.wav'.\n",
      "Generated 50 augmented files in 'clips\\wake1076.wav_49_add_noise2.wav'.\n",
      "Generated 50 augmented files in 'clips\\wake1077.wav_49_add_noise2.wav'.\n",
      "Generated 50 augmented files in 'clips\\wake1078.wav_49_adjust_volume2.wav'.\n",
      "Generated 50 augmented files in 'clips\\wake1079.wav_49_adjust_volume2.wav'.\n",
      "Generated 50 augmented files in 'clips\\wake1080.wav_49_add_noise2.wav'.\n",
      "Generated 50 augmented files in 'clips\\wake1081.wav_49_adjust_volume2.wav'.\n",
      "Generated 50 augmented files in 'clips\\wake1082.wav_49_pitch_shift2.wav'.\n",
      "Generated 50 augmented files in 'clips\\wake1083.wav_49_adjust_volume2.wav'.\n",
      "Generated 50 augmented files in 'clips\\wake1084.wav_49_adjust_volume2.wav'.\n",
      "Generated 50 augmented files in 'clips\\wake1085.wav_49_add_noise2.wav'.\n",
      "Generated 50 augmented files in 'clips\\wake1086.wav_49_pitch_shift2.wav'.\n",
      "Generated 50 augmented files in 'clips\\wake1087.wav_49_pitch_shift2.wav'.\n",
      "Generated 50 augmented files in 'clips\\wake1088.wav_49_add_noise2.wav'.\n",
      "Generated 50 augmented files in 'clips\\wake1089.wav_49_pitch_shift2.wav'.\n",
      "Generated 50 augmented files in 'clips\\wake1090.wav_49_add_noise2.wav'.\n",
      "Generated 50 augmented files in 'clips\\wake1091.wav_49_adjust_volume2.wav'.\n",
      "Generated 50 augmented files in 'clips\\wake1092.wav_49_adjust_volume2.wav'.\n",
      "Generated 50 augmented files in 'clips\\wake1093.wav_49_add_noise2.wav'.\n",
      "Generated 50 augmented files in 'clips\\wake1094.wav_49_adjust_volume2.wav'.\n",
      "Generated 50 augmented files in 'clips\\wake1095.wav_49_add_noise2.wav'.\n",
      "Generated 50 augmented files in 'clips\\wake1096.wav_49_add_noise2.wav'.\n",
      "Generated 50 augmented files in 'clips\\wake1097.wav_49_pitch_shift2.wav'.\n",
      "Generated 50 augmented files in 'clips\\wake1098.wav_49_adjust_volume2.wav'.\n",
      "Generated 50 augmented files in 'clips\\wake1099.wav_49_add_noise2.wav'.\n"
     ]
    }
   ],
   "source": [
    "for n in range (1, 100):\n",
    "    # Example usage\n",
    "    original_audio_file = f'WakeWords/wake1{n}.wav'  # Path to your original audio file\n",
    "    code_name = f'wake10{n}.wav'\n",
    "    output_directory = 'clips'  # Directory to save augmented files\n",
    "    augment_audio(original_audio_file, output_directory, code_name)"
   ]
  },
  {
   "cell_type": "code",
   "execution_count": 23,
   "id": "646b7d1a-e031-4980-ae77-8937230200e7",
   "metadata": {},
   "outputs": [
    {
     "data": {
      "text/plain": [
       "1505"
      ]
     },
     "execution_count": 23,
     "metadata": {},
     "output_type": "execute_result"
    }
   ],
   "source": [
    "len(os.listdir('audio'))"
   ]
  },
  {
   "cell_type": "code",
   "execution_count": null,
   "id": "a5bbb8ad-ced5-4228-9eba-7bc3decd1448",
   "metadata": {},
   "outputs": [],
   "source": []
  }
 ],
 "metadata": {
  "kernelspec": {
   "display_name": "Python 3 (ipykernel)",
   "language": "python",
   "name": "python3"
  },
  "language_info": {
   "codemirror_mode": {
    "name": "ipython",
    "version": 3
   },
   "file_extension": ".py",
   "mimetype": "text/x-python",
   "name": "python",
   "nbconvert_exporter": "python",
   "pygments_lexer": "ipython3",
   "version": "3.11.10"
  }
 },
 "nbformat": 4,
 "nbformat_minor": 5
}
